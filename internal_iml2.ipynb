{
 "cells": [
  {
   "cell_type": "markdown",
   "metadata": {},
   "source": [
    "**Inclass: Intro to Machine Learning 2**\n",
    "\n",
    "- Data Analytics Specialization\n",
    "- Course Length: 9 hours\n",
    "\n",
    "\n",
    "## Training Objectives\n",
    "\n",
    "- **Working with Time Series**\n",
    "  - Data Preprocessing\n",
    "  - Visualization: Multiple vs Multivariate Time Series\n",
    "  \n",
    "- **Modeling using `prophet`**\n",
    "  - Baseline Model\n",
    "  - Trend Component\n",
    "  - Seasonality Component\n",
    "  - Holiday Effects\n",
    "  - Adding Regressors\n",
    "  \n",
    "- **Forecasting Evaluation**\n",
    "  - Train-Test Split\n",
    "  - Evaluation Metrics: MAPE\n",
    "  - Expanding Window Cross Validation\n",
    "  \n",
    "- **Hyperparameter Tuning**"
   ]
  },
  {
   "cell_type": "markdown",
   "metadata": {},
   "source": [
    "## Introduction\n",
    "\n",
    "### Regression vs Time Series\n",
    "\n",
    "Regresi dan time series sama-sama merupakan model machine learning yang target variabelnya berupa variabel dengan nilai numerik. Perbedaan dari kedua model ini adalah variabel yang digunakan untuk melakukan prediksi (atau pada kasus machine learning biasanya disebut sebagai prediktor). \n",
    "\n",
    "Kasus regresi menggunakan variabel-variabel dependent untuk memprediksi variabel independent (Contoh: menebak harga rumah dengan informasi jumlah kamar, luas bangunan, luas tanah). Sementara kasus time series berusaha menebak nilai di masa depan dengan mempelajari **pola dari variabel target** dari data historiknya. "
   ]
  },
  {
   "cell_type": "code",
   "execution_count": 1,
   "metadata": {
    "ExecuteTime": {
     "end_time": "2023-05-18T02:31:46.947834Z",
     "start_time": "2023-05-18T02:31:46.081754Z"
    }
   },
   "outputs": [],
   "source": [
    "import pandas as pd\n",
    "\n",
    "# pandas output display setup\n",
    "pd.options.display.float_format = '{:,.4f}'.format"
   ]
  },
  {
   "cell_type": "markdown",
   "metadata": {},
   "source": [
    "Pada course ini, kita akan menggunakan data dari perusahaan software Rusia - 1C Company yang tersedia pada [Kaggle platform](https://www.kaggle.com/c/competitive-data-science-predict-future-sales/overview). Data ini memiliki kondisi musiman atau seasonal serta beberapa 'noise' yang menunjukkan adanya suatu kejadian tertentu."
   ]
  },
  {
   "cell_type": "code",
   "execution_count": 2,
   "metadata": {
    "ExecuteTime": {
     "end_time": "2023-05-18T02:31:48.102190Z",
     "start_time": "2023-05-18T02:31:46.950944Z"
    }
   },
   "outputs": [
    {
     "data": {
      "text/html": [
       "<div>\n",
       "<style scoped>\n",
       "    .dataframe tbody tr th:only-of-type {\n",
       "        vertical-align: middle;\n",
       "    }\n",
       "\n",
       "    .dataframe tbody tr th {\n",
       "        vertical-align: top;\n",
       "    }\n",
       "\n",
       "    .dataframe thead th {\n",
       "        text-align: right;\n",
       "    }\n",
       "</style>\n",
       "<table border=\"1\" class=\"dataframe\">\n",
       "  <thead>\n",
       "    <tr style=\"text-align: right;\">\n",
       "      <th></th>\n",
       "      <th>date</th>\n",
       "      <th>date_block_num</th>\n",
       "      <th>shop_id</th>\n",
       "      <th>item_id</th>\n",
       "      <th>item_price</th>\n",
       "      <th>item_cnt_day</th>\n",
       "    </tr>\n",
       "  </thead>\n",
       "  <tbody>\n",
       "    <tr>\n",
       "      <th>0</th>\n",
       "      <td>02.01.2013</td>\n",
       "      <td>0</td>\n",
       "      <td>59</td>\n",
       "      <td>22154</td>\n",
       "      <td>999.0000</td>\n",
       "      <td>1.0000</td>\n",
       "    </tr>\n",
       "    <tr>\n",
       "      <th>1</th>\n",
       "      <td>03.01.2013</td>\n",
       "      <td>0</td>\n",
       "      <td>25</td>\n",
       "      <td>2552</td>\n",
       "      <td>899.0000</td>\n",
       "      <td>1.0000</td>\n",
       "    </tr>\n",
       "    <tr>\n",
       "      <th>2</th>\n",
       "      <td>05.01.2013</td>\n",
       "      <td>0</td>\n",
       "      <td>25</td>\n",
       "      <td>2552</td>\n",
       "      <td>899.0000</td>\n",
       "      <td>-1.0000</td>\n",
       "    </tr>\n",
       "    <tr>\n",
       "      <th>3</th>\n",
       "      <td>06.01.2013</td>\n",
       "      <td>0</td>\n",
       "      <td>25</td>\n",
       "      <td>2554</td>\n",
       "      <td>1,709.0500</td>\n",
       "      <td>1.0000</td>\n",
       "    </tr>\n",
       "    <tr>\n",
       "      <th>4</th>\n",
       "      <td>15.01.2013</td>\n",
       "      <td>0</td>\n",
       "      <td>25</td>\n",
       "      <td>2555</td>\n",
       "      <td>1,099.0000</td>\n",
       "      <td>1.0000</td>\n",
       "    </tr>\n",
       "  </tbody>\n",
       "</table>\n",
       "</div>"
      ],
      "text/plain": [
       "         date  date_block_num  shop_id  item_id  item_price  item_cnt_day\n",
       "0  02.01.2013               0       59    22154    999.0000        1.0000\n",
       "1  03.01.2013               0       25     2552    899.0000        1.0000\n",
       "2  05.01.2013               0       25     2552    899.0000       -1.0000\n",
       "3  06.01.2013               0       25     2554  1,709.0500        1.0000\n",
       "4  15.01.2013               0       25     2555  1,099.0000        1.0000"
      ]
     },
     "execution_count": 2,
     "metadata": {},
     "output_type": "execute_result"
    }
   ],
   "source": [
    "sales = pd.read_csv('data_input/sales_train.csv')\n",
    "sales.head()"
   ]
  },
  {
   "cell_type": "markdown",
   "metadata": {},
   "source": [
    "Beberapa informasi dasar yang kita dapatkan yaitu:\n",
    "\n",
    "- Terdapat 2,935,849 observasi/baris dan 6 variabel/kolom.\n",
    "- Glossary data yang disediakan oleh Kaggle:\n",
    "  - `date` adalah data tanggal dengan format **dd.mm.yyyy**\n",
    "  - `date_block_num` adalah urutan angka untuk bulan (Jan 2013 = 0, Feb 2013 = 1, ..., Okt 2015 = 33)\n",
    "  - `shop_id` adalah nomor identitas toko\n",
    "  - `item_id` adalah nomor identitas produk\n",
    "  - `item_price` adalah harga barang di tanggal tersebut\n",
    "  - `item_cnt_day` adalah jumlah barang terjual di tanggal tersebut\n",
    "\n",
    "Variabel yang akan kita coba untuk prediksi adalah **`item_cnt_day` dan `item_price`**. Kita akan melakukan analisis terkait kebutuhan pasar berdasarkan histori penjualan."
   ]
  },
  {
   "cell_type": "markdown",
   "metadata": {},
   "source": [
    "## Working with Time Series\n",
    "\n",
    "Data time series didefinisikan sebagai data yang dikumpulkan dengan jarak waktu yang teratur (memiliki periode pengambilan data yang sama). Pada kasus ini, kita memiliki data penjualan software **harian**.\n",
    "Sedangkan forecasting merupakan proses prediksi untuk data time series berdasarkan pola data historiknya.\n",
    "\n",
    "### Data Preparation\n",
    "\n",
    "Beberapa hal yang harus diperhatikan ketika melakukan analisis data time series yaitu:\n",
    "- Melakukan konversi tipe kolom **date** ke `datetime64[ns]`\n",
    "- Memastikan data sudah terurut dengan baik\n",
    "- Memastikan tidak terdapat tanggal yang terlompat dan data kosong\n",
    "\n",
    "Setelah memastikan seluruh hal di atas sudah terpenuhi, kita akan melakukan feature engineering dengan membuat kolom `total_revenue` yang nantinya akan diprediksi. Kolom ini merupakan hasil perhitungan dari `item_cnt_day` dengan `item_price`."
   ]
  },
  {
   "cell_type": "code",
   "execution_count": 3,
   "metadata": {
    "ExecuteTime": {
     "end_time": "2023-05-18T02:31:48.137455Z",
     "start_time": "2023-05-18T02:31:48.127063Z"
    }
   },
   "outputs": [],
   "source": [
    "sales['date'] = pd.to_datetime(sales['date'], dayfirst=True)\n",
    "sales.sort_values('date', inplace = True)\n",
    "sales['total_revenue'] = sales['item_cnt_day'] * sales['item_price']"
   ]
  },
  {
   "cell_type": "markdown",
   "metadata": {},
   "source": [
    "Ternyata data kita memiliki range waktu dari 1 Januari 2013 sampai 31 Oktober 2015.\n",
    "Tetapi, data kita sebenarnya tersusun bukan dari satu toko dan produk saja, melainkan dari banyak toko dan banyak produk. Oleh karena itu kita akan melakukan analisis pada 3 toko paling populer berdasarkan jumlah transaksinya.\n",
    "Mari kita buat tabel frekuensi untuk melihat toko paling populer ini."
   ]
  },
  {
   "cell_type": "code",
   "execution_count": 4,
   "metadata": {
    "ExecuteTime": {
     "end_time": "2023-05-18T02:31:48.859411Z",
     "start_time": "2023-05-18T02:31:48.826113Z"
    }
   },
   "outputs": [],
   "source": [
    "top_3_shop = sales['shop_id'].value_counts().head(3).index\n",
    "sales_top_3_shop = sales[sales['shop_id'].isin(top_3_shop)]"
   ]
  },
  {
   "cell_type": "markdown",
   "metadata": {},
   "source": [
    "Dari tabel frekuensi di atas kita dapat melihat bahwa **toko 31, 25, dan 54** adalah toko dengan jumlah penjualan terbanyak. Kita akan berfokus pada tiga toko ini dengan melakukan filter pada data `sales`."
   ]
  },
  {
   "cell_type": "markdown",
   "metadata": {},
   "source": [
    "Hal paling penting dari sebuah data time series adalah datanya diambil pada interval waktu yang tetap dan jika kita lihat pada data di atas, terdapat beberapa data pada satu hari. Oleh karena itu kita bisa katakan bahwa data kita belum memenuhi syarat data time series. \n",
    "Pada data tiga toko terpopuler, masih tersimpan transaksi dari berbagai macam produk tiap harinya oleh karena itu proses yang perlu kita lakukan selanjutnya adalah melakukan **agregasi data** dimana kita akan menghitung jumlah benda yang terjual serta total revenue terhadap tiap toko dan tanggal."
   ]
  },
  {
   "cell_type": "code",
   "execution_count": 5,
   "metadata": {
    "ExecuteTime": {
     "end_time": "2023-05-18T02:31:48.995135Z",
     "start_time": "2023-05-18T02:31:48.928987Z"
    }
   },
   "outputs": [
    {
     "data": {
      "text/html": [
       "<div>\n",
       "<style scoped>\n",
       "    .dataframe tbody tr th:only-of-type {\n",
       "        vertical-align: middle;\n",
       "    }\n",
       "\n",
       "    .dataframe tbody tr th {\n",
       "        vertical-align: top;\n",
       "    }\n",
       "\n",
       "    .dataframe thead th {\n",
       "        text-align: right;\n",
       "    }\n",
       "</style>\n",
       "<table border=\"1\" class=\"dataframe\">\n",
       "  <thead>\n",
       "    <tr style=\"text-align: right;\">\n",
       "      <th></th>\n",
       "      <th>date</th>\n",
       "      <th>shop_id</th>\n",
       "      <th>total_qty</th>\n",
       "      <th>total_revenue</th>\n",
       "    </tr>\n",
       "  </thead>\n",
       "  <tbody>\n",
       "    <tr>\n",
       "      <th>0</th>\n",
       "      <td>2013-01-01</td>\n",
       "      <td>54</td>\n",
       "      <td>415.0000</td>\n",
       "      <td>316,557.0000</td>\n",
       "    </tr>\n",
       "    <tr>\n",
       "      <th>1</th>\n",
       "      <td>2013-01-02</td>\n",
       "      <td>25</td>\n",
       "      <td>568.0000</td>\n",
       "      <td>345,174.1300</td>\n",
       "    </tr>\n",
       "    <tr>\n",
       "      <th>2</th>\n",
       "      <td>2013-01-02</td>\n",
       "      <td>31</td>\n",
       "      <td>568.0000</td>\n",
       "      <td>396,376.1000</td>\n",
       "    </tr>\n",
       "    <tr>\n",
       "      <th>3</th>\n",
       "      <td>2013-01-02</td>\n",
       "      <td>54</td>\n",
       "      <td>709.0000</td>\n",
       "      <td>519,336.0000</td>\n",
       "    </tr>\n",
       "    <tr>\n",
       "      <th>4</th>\n",
       "      <td>2013-01-03</td>\n",
       "      <td>25</td>\n",
       "      <td>375.0000</td>\n",
       "      <td>249,421.0000</td>\n",
       "    </tr>\n",
       "  </tbody>\n",
       "</table>\n",
       "</div>"
      ],
      "text/plain": [
       "        date  shop_id  total_qty  total_revenue\n",
       "0 2013-01-01       54   415.0000   316,557.0000\n",
       "1 2013-01-02       25   568.0000   345,174.1300\n",
       "2 2013-01-02       31   568.0000   396,376.1000\n",
       "3 2013-01-02       54   709.0000   519,336.0000\n",
       "4 2013-01-03       25   375.0000   249,421.0000"
      ]
     },
     "execution_count": 5,
     "metadata": {},
     "output_type": "execute_result"
    }
   ],
   "source": [
    "daily_sales = sales_top_3_shop.groupby(['date', 'shop_id']).sum()[['item_cnt_day', 'total_revenue']].reset_index()\n",
    "daily_sales.rename(columns = {'item_cnt_day' : 'total_qty'}, inplace=True)\n",
    "daily_sales.head()"
   ]
  },
  {
   "cell_type": "markdown",
   "metadata": {},
   "source": [
    "Sebagai catatan ketika melakukan agregasi data, kita hanya dapat mengubah bentuk data dari waktu yang jarak antar periodenya lebih singkat ke yang lebih panjang, sebagai contoh:\n",
    "\n",
    "- periode **jam** ke **harian**\n",
    "- periode **harian** ke **mingguan**\n",
    "- periode **harian** ke **bulanan**\n",
    "- periode **bulanan** ke **kuartal**\n",
    "- periode **bulanan** ke **tahunan**, dst."
   ]
  },
  {
   "cell_type": "markdown",
   "metadata": {},
   "source": [
    "### Visualization: Multiple vs Multivariate Time Series\n",
    "\n",
    "Sebelum kita masuk ke tahapan pembuatan model, kita perlu melakukan analisis berdasarkan visualisasi datanya. Pada bagian ini kita akan menggunakan library **`matplotlib` dan `seaborn`**. \n",
    "\n",
    "⚠️ Sedikit informasi tambahan tentang perbedaan *multiple* dengan *multivariate* pada kasus time series, berikut adalah definisi dari keduanya:\n",
    "\n",
    "- Multiple time series: Terdapat **satu variabel** dari **banyak objek** yang ditinjau dari waktu ke waktu.\n",
    "\n",
    "- Multivariate time series: Terdapat **banyak variabel** dari hanya **satu objek** yang ditinjau dari waktu ke waktu. Biasanya untuk kondisi ini variabelnya saling berkaitan satu sama lain."
   ]
  },
  {
   "cell_type": "code",
   "execution_count": null,
   "metadata": {
    "ExecuteTime": {
     "end_time": "2023-05-18T02:31:51.358923Z",
     "start_time": "2023-05-18T02:31:48.997089Z"
    }
   },
   "outputs": [],
   "source": [
    "# data visualization library\n",
    "import matplotlib.pyplot as plt\n",
    "import seaborn as sns"
   ]
  },
  {
   "cell_type": "markdown",
   "metadata": {},
   "source": [
    "#### Multiple Time Series\n",
    "\n",
    "Pada kasus kita, multiple time series yaitu ketika kita meninjau fluktuasi dari variabel `total_qty` pada tiga toko terpopuler."
   ]
  },
  {
   "cell_type": "code",
   "execution_count": null,
   "metadata": {
    "ExecuteTime": {
     "end_time": "2023-05-18T02:31:52.538360Z",
     "start_time": "2023-05-18T02:31:51.362967Z"
    }
   },
   "outputs": [],
   "source": [
    "sns.relplot(data=daily_sales, kind='line',\n",
    "            x='date', y='total_qty', col='shop_id', aspect=1.5)\n",
    "plt.show()"
   ]
  },
  {
   "cell_type": "markdown",
   "metadata": {},
   "source": [
    "Dari visualisasi di atas, kita dapat melihat bahwa fluktuasi dari `total_qty` tidaklah sama, tetapi jika kita lihat lebih detail terdapat peningkatan yang sangat ekstrim pada `shop_id` 25 dan 31 pada akhir tahun, sedangkan pada toko 54 pola kenaikan di akhir tahunnya tidak sesignifikan kedua toko lain."
   ]
  },
  {
   "cell_type": "markdown",
   "metadata": {},
   "source": [
    "#### Multivariate Time Series\n",
    "\n",
    "Pada kasus kita, multivariate time series adalah ketika kita meninjau fluktuasi dari `total_qty` dan `total_revenue` yang berubah terhadap waktu dari satu toko 31 saja. Kita akan melakukan conditional subsetting dari data `daily_sales` untuk membuat `daily_sales_31`."
   ]
  },
  {
   "cell_type": "code",
   "execution_count": null,
   "metadata": {
    "ExecuteTime": {
     "end_time": "2023-05-18T02:31:52.547836Z",
     "start_time": "2023-05-18T02:31:52.541285Z"
    }
   },
   "outputs": [],
   "source": [
    "daily_sales_31 = daily_sales[daily_sales['shop_id'] == 31]"
   ]
  },
  {
   "cell_type": "markdown",
   "metadata": {},
   "source": [
    "Create visualization :"
   ]
  },
  {
   "cell_type": "code",
   "execution_count": null,
   "metadata": {
    "ExecuteTime": {
     "end_time": "2023-05-18T02:31:53.297629Z",
     "start_time": "2023-05-18T02:31:52.550217Z"
    }
   },
   "outputs": [],
   "source": [
    "daily_sales_31.set_index('date')[['total_qty', 'total_revenue']].plot(subplots=True,figsize=(10, 5))\n",
    "plt.suptitle('DAILY SOFTWARE SALES: STORE 31')\n",
    "plt.show()"
   ]
  },
  {
   "cell_type": "markdown",
   "metadata": {},
   "source": [
    "Dari visualisasi tersebut kita dapat melihat adanya fluktuasi yang serupa antara `total_qty` dan `total_revenue` di toko 31. Secara perspektif bisnis pun kedua variabel ini memiliki keterkaitan yang erat satu sama lain. Logikanya jika jumlah barang terjual meningkat maka revenue yang dihasilkan juga akan meningkat."
   ]
  },
  {
   "cell_type": "markdown",
   "metadata": {},
   "source": [
    "## Modeling using [`prophet`](https://facebook.github.io/prophet/)\n",
    "\n",
    "Sebuah konsep dasar dalam pemahaman kasus time series adalah dengan melakukan pemecahan komponen dari sebuah data time series (**decompose**). Pemecahan komponen data time series ini banyak macamnya, dan salah satunya adalah menggunakan metode **General Additive Model (GAM)** yang menggambarkan sebuah data time series disusun dari penjumlahan berbagai komponen data. Sebagai permulaan, kita akan menggunakan 3 komponen:\n",
    "\n",
    "- Trend ($T$): Pergerakan data dalam jangka panjang\n",
    "- Seasonality ($S$): Perulangan akibat kondisi musiman\n",
    "- Residuals ($E$): Komponen random yang tidak dapat dideskripsikan oleh trend maupun seasonal\n",
    "\n",
    "Ide di balik GAM adalah ketiga komponen di atas dijumlahkan untuk menyusun data time series kita, matematisnya:\n",
    "\n",
    "$Y(t) = T(t) + S(t) + E(t)$\n",
    "\n",
    "Ketika kita membahas time series forecasting, terdapat sebuah sumsi yang perlu kita gunakan yaitu **Terdapat korelasi antara data/pengamatan yang berurutan**. Artinya peramalan/forecasting time series didasari oleh kondisi/perilaku di masa lalu. Jika disimpulkan maka konsepnya yaitu untuk melakukan peramalan nilai di masa depan, kita akan memperhatikan kondisi trend dan seasonal dari data time series.\n",
    "\n",
    "Kelebihan dari Prophet yaitu adanya komponen tambahan yaitu **holiday effect** di luar komponen trend dan seasonal. Model ini akan memperhitungkan kejadian di hari-hari penting pada tanggal tertentu yang sudah terbukti berguna pada banyak kasus. Sebagai contoh adanya musim lebaran. Musim lebaran di Indonesia merupakan sesuatu yang sangat normal menimbulkan efek terhadap data time series, tetapi kondisi seasonal dari musim lebaran ini memiliki waktu yang berbeda-beda setiap tahunnya. Hal ini tidak dapat ditangkap oleh kondisi seasonal biasa tetapi dapat ditangkap dengan holiday effect pada Prophet.\n",
    "\n",
    "### Baseline Model\n",
    "\n",
    "#### Prepare the data\n",
    "\n",
    "Untuk menggunakan `prophet`, kita perlu mempersiapkan data time series kita ke dalam format dataframe yang spesifik sesuai kebutuhan library ini. Dataframe ini membutuhkan 2 kolom:\n",
    "\n",
    "- `ds`: kolom dengan informasi waktu, harus bertipe data `datetime64[ns]`\n",
    "- `y`: nilai yang ingin kita forecast\n",
    "\n",
    "Pada contoh di bawah kita akan menggunakan `total_qty` pada toko 31 sebagai nilai yang ingin kita forecast."
   ]
  },
  {
   "cell_type": "code",
   "execution_count": null,
   "metadata": {
    "ExecuteTime": {
     "end_time": "2023-05-18T02:31:53.478717Z",
     "start_time": "2023-05-18T02:31:53.464203Z"
    }
   },
   "outputs": [],
   "source": [
    "daily_total_qty = daily_sales_31[['date', 'total_qty']].rename(\n",
    "    columns = {'date':'ds', \n",
    "               'total_qty':'y'})"
   ]
  },
  {
   "cell_type": "markdown",
   "metadata": {},
   "source": [
    "#### Fitting Model\n",
    "\n",
    "Langkah selanjutnya adalah melakukan fitting model diawali dengan membuat `prophet` object menggunakan `Prophet()`. Setelah objectnya dibuat, kita akan melakukan fitting data `daily_total_qty`. Ide dari fitting adalah membiarkan mesin mencari informasi pola dari data time series yang nantinya akan digunakan untuk melakukan forecasting."
   ]
  },
  {
   "cell_type": "code",
   "execution_count": null,
   "metadata": {
    "ExecuteTime": {
     "end_time": "2023-05-18T02:31:54.544214Z",
     "start_time": "2023-05-18T02:31:53.539846Z"
    },
    "scrolled": true
   },
   "outputs": [],
   "source": [
    "# load the library\n",
    "from prophet import Prophet\n",
    "# fit model\n",
    "model_31 = "
   ]
  },
  {
   "cell_type": "markdown",
   "metadata": {},
   "source": [
    "#### Forecasting\n",
    "\n",
    "Berdasarkan data yang sudah ada, kita akan mencoba meramalkan data kita **1 tahun ke depan**. Untuk itu kita harus menyiapkan sebuah dataframe baru yang berisi informasi waktu yang ingin kita forecast. Hal ini dapat dilakukan menggunakan method `.make_future_dataframe()` dari `prophet`."
   ]
  },
  {
   "cell_type": "code",
   "execution_count": null,
   "metadata": {
    "ExecuteTime": {
     "end_time": "2023-05-18T02:31:54.558973Z",
     "start_time": "2023-05-18T02:31:54.547177Z"
    }
   },
   "outputs": [],
   "source": [
    "future_31 = "
   ]
  },
  {
   "cell_type": "markdown",
   "metadata": {},
   "source": [
    "Dataframe `future_31` berisi informasi tanggal tepat 365 hari setelah data fitting berakhir. Kita akan menggunakan dataframe ini untuk melakukan forecasting menggunakan method `.predict()`."
   ]
  },
  {
   "cell_type": "code",
   "execution_count": null,
   "metadata": {
    "ExecuteTime": {
     "end_time": "2023-05-18T02:31:54.853135Z",
     "start_time": "2023-05-18T02:31:54.561977Z"
    }
   },
   "outputs": [],
   "source": [
    "forecast_31 = "
   ]
  },
  {
   "cell_type": "markdown",
   "metadata": {},
   "source": [
    "Mari kita cek 5 hasil teratas dari `forecast_31`:"
   ]
  },
  {
   "cell_type": "code",
   "execution_count": null,
   "metadata": {
    "ExecuteTime": {
     "end_time": "2023-05-18T02:31:54.947001Z",
     "start_time": "2023-05-18T02:31:54.941885Z"
    }
   },
   "outputs": [],
   "source": [
    "## code here\n",
    "forecast_31.head()"
   ]
  },
  {
   "cell_type": "markdown",
   "metadata": {},
   "source": [
    "Dari berbagai nilai di atas kita akan mengambil beberapa informasi saja, yaitu:"
   ]
  },
  {
   "cell_type": "code",
   "execution_count": null,
   "metadata": {
    "ExecuteTime": {
     "end_time": "2023-05-18T02:31:54.983920Z",
     "start_time": "2023-05-18T02:31:54.969319Z"
    }
   },
   "outputs": [],
   "source": [
    "forecast_31[['ds', 'trend', 'weekly', 'yearly', 'yhat']]"
   ]
  },
  {
   "cell_type": "markdown",
   "metadata": {},
   "source": [
    "Seperti yang sudah dibahas sebelumnya, pada General Additive Model (GAM) kita menggunakan asumsi bahwa data time series merupakan penjumlahan dari seluruh komponen. Pada kasus kita, dapat dilihat bahwa terdapat 3 buah komponen yaitu `trend`, seasonal `weekly`, dan seasonal `yearly`. Jika kita susun ketiga komponen ini dalam bentuk matematis maka didapatkan persamaan berikut:\n",
    "\n",
    "$yhat(t) = T(t) + S_{weekly}(t) + S_{yearly}(t)$\n",
    "\n",
    "<!-- Secara real, perhitungan sebenarnya pada data kita di atas adalah \n",
    "```python\n",
    "df['yhat'] = df['trend'] * (1 + df['multiplicative_terms']) + df['additive_terms']\n",
    "``` -->"
   ]
  },
  {
   "cell_type": "markdown",
   "metadata": {},
   "source": [
    "#### Visualize\n",
    "\n",
    "Setelah membuat model dan melakukan forecast, kita akan melakukan visualisasi dengan method `.plot()` dari `model_31` dengan inputnya adalah hasil forecastnya (`forecast_31`). Method ini akan menghasilkan objek `matplotlib` dengan informasi berupa data asli dalam bentuk scatter (titik-titik hitam) dan hasil model fitted serta forecast dengan garis biru."
   ]
  },
  {
   "cell_type": "code",
   "execution_count": null,
   "metadata": {
    "ExecuteTime": {
     "end_time": "2023-05-18T02:31:55.393937Z",
     "start_time": "2023-05-18T02:31:54.999148Z"
    }
   },
   "outputs": [],
   "source": [
    "fig = model_31.plot(forecast_31)"
   ]
  },
  {
   "cell_type": "markdown",
   "metadata": {},
   "source": [
    "Kita juga dapat membuat visualisasi komponen trend dan seasonalnya menggunakan method `.plot_components()`."
   ]
  },
  {
   "cell_type": "code",
   "execution_count": null,
   "metadata": {
    "ExecuteTime": {
     "end_time": "2023-05-18T02:31:56.164077Z",
     "start_time": "2023-05-18T02:31:55.395990Z"
    }
   },
   "outputs": [],
   "source": [
    "fig = model_31.plot_components(forecast_31)"
   ]
  },
  {
   "cell_type": "markdown",
   "metadata": {},
   "source": [
    "### Trend Component\n",
    "\n",
    "Trend, yang merupakan pergerakan data secara general dalam jangka panjang ditampilkan secara menurun pada data kita. Metode yang diimplementasikan oleh Prophet secara default adalah perumusan **model linear** yang digambarkan sebagai berikut:"
   ]
  },
  {
   "cell_type": "code",
   "execution_count": null,
   "metadata": {
    "ExecuteTime": {
     "end_time": "2023-05-18T02:31:56.485865Z",
     "start_time": "2023-05-18T02:31:56.167092Z"
    }
   },
   "outputs": [],
   "source": [
    "#@title\n",
    "# for illustration purposes only\n",
    "from datetime import date\n",
    "\n",
    "## prepare data\n",
    "daily_sales_31_copy = daily_sales_31.copy()\n",
    "daily_sales_31_copy['date_ordinal'] = daily_sales_31_copy['date'].apply(lambda date: date.toordinal())\n",
    "\n",
    "## visualize regression line\n",
    "plt.figure(figsize=(10, 5))\n",
    "ax = sns.regplot(x='date_ordinal', y='total_qty', data=daily_sales_31_copy,\n",
    "            scatter_kws={'color': 'black', 's': 2},\n",
    "            line_kws={'color': 'red'})\n",
    "new_labels = [date.fromordinal(int(item)) for item in ax.get_xticks()]\n",
    "ax.set_xticklabels(new_labels)\n",
    "plt.xlabel('date')\n",
    "plt.show()"
   ]
  },
  {
   "cell_type": "markdown",
   "metadata": {},
   "source": [
    "#### Automatic Changepoint Detection\n",
    "\n",
    "Kelebihan dari `Prophet` yaitu dengan adanya *changepoint detection* yang berusaha mendeteksi secara otomatis adanya perubahan signifikan pada slope. Prophet akan membagi data kita pada beberapa titik dan menghitung slope per bagian secara terpisah.\n",
    "\n",
    "Jumlah dari titik yang digunakan didefinisikan oleh parameter `n_changepoints` ketika membuat object `Prophet()` yang diletakkan secara merata pada 80% data awal (`changepoint_range = 0.8`).\n",
    "\n",
    "Changepoint yang dibuat dapat dilihat dengan menggunakan fungsi `add_changepoints_to_plot` dan memasukkan beberapa parameter yang dapat dilihat pada docstring fungsi ini."
   ]
  },
  {
   "cell_type": "code",
   "execution_count": null,
   "metadata": {
    "ExecuteTime": {
     "end_time": "2023-05-18T02:31:58.264024Z",
     "start_time": "2023-05-18T02:31:57.809921Z"
    }
   },
   "outputs": [],
   "source": [
    "#@title\n",
    "# for illustration purposes only, threshold = 0\n",
    "from prophet.plot import add_changepoints_to_plot\n",
    "fig = model_31.plot(forecast_31)\n",
    "a = add_changepoints_to_plot(fig.gca(), \n",
    "                             model_31, \n",
    "                             forecast_31, \n",
    "                             threshold=0) # seberapa besar minimal terjadinya perubahan slope"
   ]
  },
  {
   "cell_type": "markdown",
   "metadata": {},
   "source": [
    "Dari 25 changepoints, prophet akan menghitung besarnya perubahan slope/kemiringan dan menentukan bagian yang berubah secara signifikan (nilai default thresholdnya adalah 0.01). "
   ]
  },
  {
   "cell_type": "code",
   "execution_count": null,
   "metadata": {
    "ExecuteTime": {
     "end_time": "2023-05-18T02:31:58.787188Z",
     "start_time": "2023-05-18T02:31:58.266957Z"
    }
   },
   "outputs": [],
   "source": [
    "fig = model_31.plot(forecast_31)\n",
    "a = add_changepoints_to_plot(fig.gca(), model_31, forecast_31)"
   ]
  },
  {
   "cell_type": "markdown",
   "metadata": {},
   "source": [
    "Pada kasus kita, model mendeteksi **3 titik changepoint yang signifikan** dan memisahkan trend menjadi **4 bagian dengan slope yang berbeda**."
   ]
  },
  {
   "cell_type": "markdown",
   "metadata": {},
   "source": [
    "#### Adjusting Trend Flexibility\n",
    "\n",
    "Prophet menyediakan parameter tuning untuk menyesuaikan fleksibilitas dari *changepoint detection*, berikut beberapa parameternya:\n",
    "\n",
    "- `n_changepoints` (default = 25): Jumlah changepoint potensial, **tidak direkomendasikan** untuk diubah dan sebaiknya yang disesuaikan adalah parameter `changepoint_prior_scale`.\n",
    "- `changepoint_range` (default = 0.8): Proporsi dari data historik yang akan diperhitungkan pada penentuan changepoint. Nilai yang direkomendasikan: [0.8, 0.95]\n",
    "- `changepoint_prior_scale` (default = 0.05): Fleksibilitas dari trend, terutama seberapa besar perubahan dari trend ini di setiap changepoint. Nilai yang direkomendasikan: [0.001, 0.5]\n",
    "\n",
    "💡 Peningkatan pada nilai default di setiap parameter di atas akan memberikan fleksibilitas pada garis trend (dan dapat menyebabkan overfitting pada training data). Sebaliknya, jika nilainya diturunkan maka trend akan jadi kurang fleksibel (dan malah menjadi underfitting)"
   ]
  },
  {
   "cell_type": "code",
   "execution_count": null,
   "metadata": {
    "ExecuteTime": {
     "end_time": "2023-05-18T02:31:58.883924Z",
     "start_time": "2023-05-18T02:31:58.802684Z"
    }
   },
   "outputs": [],
   "source": [
    "# define changepoint_range and changepoint_prior_scale\n",
    "model_tuning_trend = Prophet(\n",
    "    \n",
    "    )"
   ]
  },
  {
   "cell_type": "code",
   "execution_count": null,
   "metadata": {
    "ExecuteTime": {
     "end_time": "2023-05-18T02:31:59.514446Z",
     "start_time": "2023-05-18T02:31:59.488813Z"
    }
   },
   "outputs": [],
   "source": [
    "# fitting model\n",
    "______.fit(____)"
   ]
  },
  {
   "cell_type": "code",
   "execution_count": null,
   "metadata": {
    "ExecuteTime": {
     "end_time": "2023-05-18T02:31:59.527022Z",
     "start_time": "2023-05-18T02:31:59.527022Z"
    }
   },
   "outputs": [],
   "source": [
    "# make time window to predict\n",
    "future = ____\n",
    "\n",
    "# predict future dataframe\n",
    "forecast = _____"
   ]
  },
  {
   "cell_type": "code",
   "execution_count": null,
   "metadata": {
    "ExecuteTime": {
     "end_time": "2023-05-18T02:31:59.528138Z",
     "start_time": "2023-05-18T02:31:59.528138Z"
    }
   },
   "outputs": [],
   "source": [
    "# visualize\n"
   ]
  },
  {
   "cell_type": "markdown",
   "metadata": {},
   "source": [
    "### Seasonality Component\n",
    "\n",
    "Selanjutnya kita akan membahas komponen time series lain yaitu seasonal. Berikut kita tinjau kembali plot masing-masing komponen pada data di toko 31."
   ]
  },
  {
   "cell_type": "code",
   "execution_count": null,
   "metadata": {
    "ExecuteTime": {
     "end_time": "2023-05-18T02:31:59.530647Z",
     "start_time": "2023-05-18T02:31:59.530647Z"
    }
   },
   "outputs": [],
   "source": [
    "fig = model_31.plot_components(forecast_31)"
   ]
  },
  {
   "cell_type": "markdown",
   "metadata": {},
   "source": [
    "Secara default, Prophet akan menentukan kondisi seasonal berdasarkan periodikal data yang disediakan. Pada kasus kita, data tersusun secara harian dari awal 2013 sampai akhir quarter 3 tahun 2015. \n",
    "\n",
    "- Setiap data dengan periode harian akan memiliki **weekly seasonality**.\n",
    "- Sedangkan **yearly seasonality** secara default disetting sebagai `True` jika terdapat data lebih dari 2 tahun observasi harian.\n",
    "- Komponen seasonal lain yang tidak terdeteksi pada kasus kita adalah **daily seasonality** yang berusaha mencari pola data dengan periode jam. Karena data kita tidak memiliki informasi jam, secara default nilai dari parameter ini adalah `False`."
   ]
  },
  {
   "cell_type": "markdown",
   "metadata": {},
   "source": [
    "#### Fourier Order\n",
    "\n",
    "Prophet menggunakan deret Fourier untuk memperkirakan efek seasonal, metode ini bekerja dengan membuat fungsi periodik yang berisi **penjumlahan dari fungsi sin dan cos** (yang jumlahnya tidak terbatas).\n",
    "\n",
    "💡 Fourier order (atau banyak penjumlahan parsial di atas) dapat ditentukan menggunakan sebuah parameter, parameter ini akan menetapkan seberapa cepat seasonality berubah. Dengan meningkatkan order, kita dapat membuat seasonality yang dihasilkan menjadi lebih fleksibel (dan mungkin menyebabkan model menjadi overfit), begitu pula sebaliknya. Berikut gambaran order:\n",
    "\n",
    "<img src=https://funsubstance.com/uploads/gif/382/382951.gif>\n",
    "\n",
    "Secara default, order dari `weekly_seasonality` adalah 3 dan `yearly_seasonality` adalah 10.\n",
    "\n",
    "Kita akan coba lihat pengaruhnya dengan mengatur kedua parameter di atas ketika membuat object."
   ]
  },
  {
   "cell_type": "code",
   "execution_count": null,
   "metadata": {
    "ExecuteTime": {
     "end_time": "2023-05-18T02:53:25.661515Z",
     "start_time": "2023-05-18T02:53:22.174759Z"
    }
   },
   "outputs": [],
   "source": [
    "# create object\n",
    "model_tuning_seasonality = Prophet(\n",
    "    \n",
    "    )\n",
    "\n",
    "# model fitting\n",
    "\n",
    "\n",
    "# forecasting\n",
    "future = \n",
    "forecast = \n",
    "\n",
    "# visualize\n",
    "fig = "
   ]
  },
  {
   "cell_type": "markdown",
   "metadata": {},
   "source": [
    "#### Custom Seasonalities\n",
    "\n",
    "Seasonality default yang disediakan oleh Prophet model untuk data harian adalah `weekly` dan `yearly`. Tetapi, bayangkan jika terdapat kasus berikut:\n",
    "\n",
    "> Penjualan di bisnis Anda sangat dipengaruhi oleh tanggal bulanan. Kebanyakan dari customer cenderung membeli produk berdasarkan waktu pembayaran gaji mereka. Karena hal ini tidak ditangkap pada kondisi seasonal weekly dan yearly, kita perlu mendefinisikan seasonal non-regular. \n",
    "\n",
    "Terdapat dua langkah untuk tahapan ini:\n",
    "1. Menghilangkan efek seasonal default (contoh: `yearly_seasonality = False`) jika dibutuhkan.\n",
    "2. Menambahkan seasonality non-reguler menggunakan method `.add_seasonality()` setelah membuat object Prophet dan sebelum melakukan fitting.\n",
    "\n",
    "Sehingga formula yang dibentuk menjadi:\n",
    "$yhat(t) = T(t) + S_{weekly}(t) + \\bf{S_{monthly}(t)}$"
   ]
  },
  {
   "cell_type": "code",
   "execution_count": null,
   "metadata": {
    "ExecuteTime": {
     "end_time": "2023-05-18T02:53:27.062881Z",
     "start_time": "2023-05-18T02:53:25.822715Z"
    }
   },
   "outputs": [],
   "source": [
    "# fitting model\n",
    "model_custom_seasonality = Prophet(\n",
    "    \n",
    "    )\n",
    "\n",
    "## add seasonality\n",
    "model_custom_seasonality.add_seasonality(name='monthly', period=30.5, fourier_order=5)\n",
    "\n",
    "# fitting model\n",
    "\n",
    "\n",
    "# forecasting\n",
    "future = \n",
    "forecast = \n",
    "\n",
    "# visualize\n",
    "fig = "
   ]
  },
  {
   "cell_type": "markdown",
   "metadata": {},
   "source": [
    "Untuk seasonal monthly, kita menggunakan periode 30.5 yang merupakan frekuensi non-reguler dalam satu musim. Nilai 30.5 ini adalah frekuensi yang umum digunakan pada monthly seasonality karena terdapat bulan dengan jumlah hari 30 dan 31 (dan 28/29 untuk Februari)\n",
    "\n",
    "💡 Nilai Fourier order yang direkomendasikan berdasarkan seasonalnya:\n",
    "- weekly seasonality = 3\n",
    "- monthly seasonality = 5\n",
    "- yearly seasonality = 10"
   ]
  },
  {
   "cell_type": "markdown",
   "metadata": {},
   "source": [
    "### Holiday Effects\n",
    "\n",
    "Salah satu keuntungan dari penggunaan Prophet adalah kemampuannya untuk memperhitungkan efek liburan. Holiday effect ini didefinisikan sebagai efek non-reguler yang disiapkan secara manual oleh user.\n",
    "\n",
    "#### Modeling Holidays and Special Events\n",
    "\n",
    "Sekarang kita akan melihat data kita dari model pertama yang kita buat. Dari visualisasi kita dapat melihat adanya penjualan yang signifikan di setiap akhir tahun (mencapai lebih dari 800 penjualan per hari)."
   ]
  },
  {
   "cell_type": "code",
   "execution_count": null,
   "metadata": {
    "ExecuteTime": {
     "end_time": "2023-05-21T06:02:58.294049Z",
     "start_time": "2023-05-21T06:02:57.814023Z"
    }
   },
   "outputs": [],
   "source": [
    "#@title\n",
    "# for illustration purposes only\n",
    "fig = model_31.plot(forecast_31)\n",
    "plt.axhline(y=800, color='red', ls='--')\n",
    "plt.show()"
   ]
  },
  {
   "cell_type": "markdown",
   "metadata": {},
   "source": [
    "Mari kita lihat penjualan dengan jumlah di atas 800 menggunakan conditional subsetting."
   ]
  },
  {
   "cell_type": "code",
   "execution_count": null,
   "metadata": {
    "ExecuteTime": {
     "end_time": "2023-05-18T02:31:59.538296Z",
     "start_time": "2023-05-18T02:31:59.538296Z"
    }
   },
   "outputs": [],
   "source": [
    "daily_total_qty[daily_total_qty['y'] > 800]"
   ]
  },
  {
   "cell_type": "markdown",
   "metadata": {},
   "source": [
    "Ternyata penjualan yang sangat tinggi ini terjadi di tanggal **27 - 31 Desember** pada 2 tahun data kita. Dengan ini kita dapat mengasumsikan adanya fenomena tahun baru yaitu saat dimana orang-orang menggunakan bonus akhir tahun mereka untuk berbelanja.\n",
    "\n",
    "Dari sini kita dapat mempersiapkan sebuah dataframe baru yang memiliki informasi di atas. Kolom-kolom yang harus dipersiapkan yaitu:\n",
    "\n",
    "- `holiday`: nama hari libur yang nilainya unik\n",
    "- `ds`: informasi waktu\n",
    "- `lower_window` : jumlah periode waktu **sebelum** tanggal hari libur yang diasumsikan punya pengaruh (<= 0)\n",
    "- `upper_window`: jumlah periode waktu **setelah** tanggal hari libur yang diasumsikan punya pengaruh (>= 0)\n",
    "\n",
    "⚠️ Informasi ini harus mencakup seluruh kejadian yang akan kita gunakan, baik pada model fitting maupun forecast (mundur sejauh historikal data kita, dan maju sejauh kita ingin melakukan prediksi)"
   ]
  },
  {
   "cell_type": "code",
   "execution_count": null,
   "metadata": {
    "ExecuteTime": {
     "end_time": "2023-05-18T02:53:29.048019Z",
     "start_time": "2023-05-18T02:53:29.035519Z"
    }
   },
   "outputs": [],
   "source": [
    "holiday = pd.DataFrame({\n",
    "    'holiday': 'new_year_eve',\n",
    "    'ds': pd.to_datetime(['2013-12-31', '2014-12-31', # past date, historical data \n",
    "                          '2015-12-31']), # future date, to be forecasted\n",
    "    'lower_window': -4, # include 27th - 31st December\n",
    "    'upper_window': 0})\n",
    "holiday"
   ]
  },
  {
   "cell_type": "markdown",
   "metadata": {},
   "source": [
    "Setelah dataframe `holiday` dipersiapkan, kita perlu memasukkan informasi ini ke dalam `Prophet()` class pada parameter `holidays`."
   ]
  },
  {
   "cell_type": "code",
   "execution_count": null,
   "metadata": {
    "ExecuteTime": {
     "end_time": "2023-05-18T05:03:11.016391Z",
     "start_time": "2023-05-18T05:03:09.574638Z"
    }
   },
   "outputs": [],
   "source": [
    "# fitting model\n",
    "model_holiday = Prophet(\n",
    "    \n",
    ")\n",
    "___.fit(___)\n",
    "\n",
    "# forecasting\n",
    "future = \n",
    "forecast = \n",
    "\n",
    "# visualize\n",
    "fig = "
   ]
  },
  {
   "cell_type": "markdown",
   "metadata": {},
   "source": [
    "Dengan adanya informasi hari libur akhir tahun, terlihat bahwa model yang dihasilkan lebih baik menangkap pola di akhir tahun dibandingkan hanya menggunakan efek yearly seasonality. Jika kita plot komponennya, kita dapat melihat adanya efek komponen holiday yang terlampir:"
   ]
  },
  {
   "cell_type": "code",
   "execution_count": null,
   "metadata": {
    "ExecuteTime": {
     "end_time": "2023-05-18T02:31:59.544826Z",
     "start_time": "2023-05-18T02:31:59.544826Z"
    }
   },
   "outputs": [],
   "source": [
    "fig = model_holiday.plot_components(forecast)"
   ]
  },
  {
   "cell_type": "markdown",
   "metadata": {},
   "source": [
    "### Adding Regressors\n",
    "\n",
    "Informasi tambahan berupa regressor dapat diberikan sebagai bagian dari perhitungan linear. Hal ini bisa dilakukan dengan method `add_regressor()` sebelum model fitting. Pada kasus ini, kita akan menggunakan kolom `total_qty` sebagai regressor untuk meramal `total_revenue` sebagai tambahan dari komponen yang sudah ada sebelumnya (trend, seasonal, holiday). Oleh karena itu, secara matematis akan menjadi:\n",
    "\n",
    "$revenue(t) = T_{revenue}(t) + S_{revenue}(t) + H_{revenue}(t) + \\bf{qty(t)}$\n",
    "\n",
    "⚠️ Sama seperti informasi hari libur, regressor tambahan ini harus disiapkan bukan hanya pada data historik tetapi juga pada data yang ingin kita ramal. Oleh karena itu variabel regressor ini haruslah sesuatu yang nilainya diketahui atau diprediksi secara terpisah menggunakan model time series juga (sehingga pemodelannya berlapis). Namun kita perlu **berhati-hati** jika menggunakan hasil prediksi karena **error dari hasil forecast regressor akan menghasilkan error pada target asli**."
   ]
  },
  {
   "cell_type": "code",
   "execution_count": null,
   "metadata": {
    "ExecuteTime": {
     "end_time": "2023-05-18T02:31:59.550902Z",
     "start_time": "2023-05-18T02:31:59.550902Z"
    }
   },
   "outputs": [],
   "source": [
    "daily_sales_31.head()"
   ]
  },
  {
   "cell_type": "markdown",
   "metadata": {},
   "source": [
    "#### Forecast the Regressor (`total_qty`)\n",
    "\n",
    "Pada bagian ini, kita akan membuat model untuk meramal `total_qty` yang akan kita gunakan sebagai regressor untuk meramal `total_revenue`."
   ]
  },
  {
   "cell_type": "code",
   "execution_count": null,
   "metadata": {
    "ExecuteTime": {
     "end_time": "2023-05-18T02:31:59.552994Z",
     "start_time": "2023-05-18T02:31:59.552994Z"
    }
   },
   "outputs": [],
   "source": [
    "# fitting model\n",
    "model_total_qty = Prophet(\n",
    "    n_changepoints=20, # trend flexibility\n",
    "    changepoint_range=0.9, # trend flexibility\n",
    "    changepoint_prior_scale=0.25, # trend flexibility\n",
    "    weekly_seasonality=5, # seasonality fourier order\n",
    "    yearly_seasonality=False, # remove seasonality\n",
    "    holidays=holiday # new year eve effects\n",
    "    )\n",
    "\n",
    "## add monthly seasonality\n",
    "model_total_qty.add_seasonality(name=___, period=___, fourier_order=5)\n",
    "model_total_qty.fit(daily_total_qty)\n",
    "\n",
    "# forecasting\n",
    "future = model_total_qty.make_future_dataframe(periods=___, freq=___)\n",
    "forecast_total_qty = model_total_qty.predict(future)\n",
    "\n",
    "# visualize\n",
    "fig = model_total_qty.plot(forecast_total_qty)"
   ]
  },
  {
   "cell_type": "markdown",
   "metadata": {},
   "source": [
    "Dataframe di bawah ini adalah hasil peramalan total quantity untuk 365 hari paling akhir (dari 1 Nov 2015 sampai 30 Okt 2016)."
   ]
  },
  {
   "cell_type": "code",
   "execution_count": null,
   "metadata": {
    "ExecuteTime": {
     "end_time": "2023-05-18T02:31:59.555086Z",
     "start_time": "2023-05-18T02:31:59.555086Z"
    }
   },
   "outputs": [],
   "source": [
    "forecasted_total_qty = forecast_total_qty[['ds', 'yhat']].tail(365) \\\n",
    "                        .rename(columns={'yhat': 'total_qty'})\n",
    "forecasted_total_qty.head()"
   ]
  },
  {
   "cell_type": "markdown",
   "metadata": {},
   "source": [
    "Sementara, dataframe berikut ini adalah nilai asli/aktual dari total quantity yang kita gunakan untuk melakukan training model. Kita harus mengganti nama kolomnya agar sama dengan dataframe sebelumnya."
   ]
  },
  {
   "cell_type": "code",
   "execution_count": null,
   "metadata": {
    "ExecuteTime": {
     "end_time": "2023-05-18T02:31:59.557050Z",
     "start_time": "2023-05-18T02:31:59.557050Z"
    }
   },
   "outputs": [],
   "source": [
    "actual_total_qty = daily_total_qty.rename(columns={'y': 'total_qty'})\n",
    "actual_total_qty"
   ]
  },
  {
   "cell_type": "markdown",
   "metadata": {},
   "source": [
    "Kedua dataframe di atas harus kita gabungkan agar informasi regressor `total_qty` dapat digunakan ketika meramalkan `total_revenue`. Nantinya dataframe yang tersusun haruslah terdiri dari:\n",
    "\n",
    "- 1031 data awal dari nilai asli `total_qty`\n",
    "- 365 data akhir dari nilai peramalan `total_qty`"
   ]
  },
  {
   "cell_type": "code",
   "execution_count": null,
   "metadata": {
    "ExecuteTime": {
     "end_time": "2023-05-18T02:31:59.559149Z",
     "start_time": "2023-05-18T02:31:59.559149Z"
    }
   },
   "outputs": [],
   "source": [
    "future_with_regressor = pd.concat([___, ___])\n",
    "future_with_regressor"
   ]
  },
  {
   "cell_type": "markdown",
   "metadata": {},
   "source": [
    "#### Forecast the Target Variable (`total_revenue`)\n",
    "\n",
    "Setelah menyiapkan data di atas, kita akan membuat model Prophet untuk meramalkan `total_revenue` dan pada bagian ini kita akan menggunakan `total_qty` sebagai regressor. Karena kita akan mengambil kembali data dari `daily_sales_31` kita akan mengubah nama kolomnya menjadi `ds` untuk tanggal dan `y` untuk kolom target."
   ]
  },
  {
   "cell_type": "code",
   "execution_count": null,
   "metadata": {
    "ExecuteTime": {
     "end_time": "2023-05-18T02:31:59.561711Z",
     "start_time": "2023-05-18T02:31:59.561711Z"
    }
   },
   "outputs": [],
   "source": [
    "daily_total_revenue = daily_sales_31[['date', 'total_revenue', 'total_qty']].rename(\n",
    "    columns={'date': ___,\n",
    "             'total_revenue': ___})\n",
    "\n",
    "daily_total_revenue"
   ]
  },
  {
   "cell_type": "markdown",
   "metadata": {},
   "source": [
    "Ketika melakukan fitting model dengan regressor, pastikan hal-hal berikut:\n",
    "- Gunakan method `.add_regressor()` sebelum fitting model\n",
    "- Lakukan peramalan menggunakan dataframe `future_with_regressor` yang sudah dipersiapkan, pastikan terdapat kolom dengan nama `ds` dan kolom regressornya."
   ]
  },
  {
   "cell_type": "code",
   "execution_count": null,
   "metadata": {
    "ExecuteTime": {
     "end_time": "2023-05-18T02:31:59.562732Z",
     "start_time": "2023-05-18T02:31:59.562732Z"
    }
   },
   "outputs": [],
   "source": [
    "# fitting model\n",
    "model_total_revenue = Prophet(\n",
    "    ___ # new year eve effects\n",
    "    )\n",
    "## add regressor\n",
    "model_total_revenue.add_regressor('total_qty')\n",
    "model_total_revenue.fit(___)\n",
    "\n",
    "# forecasting\n",
    "## use dataframe with regressor, instead of just `ds` column\n",
    "forecast_total_revenue = ___\n",
    "\n",
    "# visualize\n",
    "fig = ___"
   ]
  },
  {
   "cell_type": "markdown",
   "metadata": {},
   "source": [
    "Jika kita plot komponennya, kita juga dapat melihat komponen tambahan yaitu regressor:"
   ]
  },
  {
   "cell_type": "code",
   "execution_count": null,
   "metadata": {
    "ExecuteTime": {
     "end_time": "2023-05-18T02:31:59.565965Z",
     "start_time": "2023-05-18T02:31:59.565965Z"
    }
   },
   "outputs": [],
   "source": [
    "fig = ___"
   ]
  },
  {
   "cell_type": "markdown",
   "metadata": {},
   "source": [
    "## Forecasting Evaluation\n",
    "\n",
    "Jika kita ingat kembali ketika melakukan analisis visual terhadap performa model peramalan kita sebelumnya. teknik yang kita lakukan tersebut sebenarnya lazim digunakan pada langkah cross-validation model (Walaupun pada kasus kita tidak terdapat data asli untuk dievaluasi). Secara sederhana, proses ini memisahkan data kita menjadi dua bagian:\n",
    "\n",
    "- Train data digunakan untuk melatih model time series untuk mendapatkan pola seperti trend dan seasonal.\n",
    "- Test data yang disimpan untuk tahap cross-validation yang berfungsi sebagai **unseen data** untuk melihat performa model.\n",
    "\n",
    "Secara objektif proses ini dilakukan agar kita dapat melihat error model secara sekilas sehingga kita dapat menjadi bahan ekspektasi kita nantinya.\n",
    "\n",
    "### Train-Test Split\n",
    "\n",
    "Pada data ini, kita memiliki range waktu dari awal 2013 sampai q3 tahun 2015. Misalkan kita ingin menggunakan data di tahun 2015 sebagai test data dan sisanya untuk train data. Jika divisualisasikan maka titik-titik berwarna merah di bawah yang tidak akan difitting pada model Prophet kita."
   ]
  },
  {
   "cell_type": "code",
   "execution_count": null,
   "metadata": {
    "ExecuteTime": {
     "end_time": "2023-05-18T02:35:23.338283Z",
     "start_time": "2023-05-18T02:35:22.966757Z"
    }
   },
   "outputs": [],
   "source": [
    "#@title\n",
    "# for illustration purposes only\n",
    "cutoff = pd.to_datetime('2015-01-01')\n",
    "daily_total_qty['type'] = daily_total_qty['ds'].apply(\n",
    "    lambda date: 'train' if date < cutoff else 'test')\n",
    "\n",
    "plt.figure(figsize=(10, 5))\n",
    "sns.scatterplot(x='ds', y='y', hue='type', s=7,\n",
    "                palette=['black', 'red'],\n",
    "                data=daily_total_qty)\n",
    "plt.axvline(x=cutoff, color='gray', label='cutoff')\n",
    "plt.legend()\n",
    "plt.show()"
   ]
  },
  {
   "cell_type": "markdown",
   "metadata": {},
   "source": [
    "Pemisahan kedua data seperti di atas dengan mudah dapat kita lakukan dengan conditional subsetting:"
   ]
  },
  {
   "cell_type": "code",
   "execution_count": null,
   "metadata": {
    "ExecuteTime": {
     "end_time": "2023-05-18T02:53:01.872053Z",
     "start_time": "2023-05-18T02:53:01.862660Z"
    }
   },
   "outputs": [],
   "source": [
    "train = daily_total_qty[___]\n",
    "test = daily_total_qty[___]\n",
    "\n",
    "print(f'Train size: {train.shape}')\n",
    "print(f'Test size: {test.shape}')"
   ]
  },
  {
   "cell_type": "markdown",
   "metadata": {},
   "source": [
    "Sekarang mari kita latih model kita menggunakan data tahun 2013-2014 dan forecast untuk tahun 2015 (**303 hari**)."
   ]
  },
  {
   "cell_type": "code",
   "execution_count": null,
   "metadata": {
    "ExecuteTime": {
     "end_time": "2023-05-18T02:53:36.902878Z",
     "start_time": "2023-05-18T02:53:36.609793Z"
    }
   },
   "outputs": [],
   "source": [
    "# fitting model\n",
    "model_final = Prophet(\n",
    "    ___, # holiday effect\n",
    "    ___ # use yearly seasonality\n",
    ") \n",
    "model_final.add_seasonality(___) # add monthly seasonality\n",
    "model_final.fit(___) # only training set"
   ]
  },
  {
   "cell_type": "code",
   "execution_count": null,
   "metadata": {
    "ExecuteTime": {
     "end_time": "2023-05-18T02:53:39.157788Z",
     "start_time": "2023-05-18T02:53:38.916767Z"
    }
   },
   "outputs": [],
   "source": [
    "# forecasting\n",
    "future_final = ___ # 303 days (test size)\n",
    "forecast_final = ___"
   ]
  },
  {
   "cell_type": "code",
   "execution_count": null,
   "metadata": {
    "ExecuteTime": {
     "end_time": "2023-05-18T02:53:40.392073Z",
     "start_time": "2023-05-18T02:53:40.074401Z"
    }
   },
   "outputs": [],
   "source": [
    "# visualize\n",
    "fig = model_final.plot(forecast_final)\n",
    "plt.scatter(x=test['ds'], y=test['y'], s=10, color='red')\n",
    "plt.show()"
   ]
  },
  {
   "cell_type": "markdown",
   "metadata": {},
   "source": [
    "### Evaluation Metrics\n",
    "\n",
    "Berdasarkan plot di atas model kita mampu untuk meramalkan kondisi di masa depan secara general, tetapi pada beberapa bagian masih berbeda antara data asli dengan data prediksi. Perbedaan kedua nilai itu disebut dengan error dan kita harus menghitung nilainya untuk mendapatkan kesimpulan evaluasi model. Berikut ini adalah beberapa metrics yang dapat digunakan:\n",
    "\n",
    "- Root Mean Squared Error\n",
    "\n",
    "<center>\n",
    "$RMSE = \\displaystyle{\\sqrt{\\frac{1}{n} \\sum_{i=1}^{n}{(p_i - a_i)^2}}}$\n",
    "</center>\n",
    "\n",
    "- Mean Squared Error\n",
    "<center>\n",
    "$SSE = \\Sigma{(y-\\hat y)^2}$  \n",
    "</center>\n",
    "\n",
    "- Mean Precentage Absoulute Error\n",
    "<center>\n",
    "$MAPE = \\frac{1}{n}\\Sigma{\\frac{| y-\\hat y|}{y}} \\times 100\\%$  \n",
    "</center>\n",
    "\n",
    "Metrics-metrics di atas lazim digunakan untuk melakukan evaluasi model time series. Kita dapat memilih salah satu dari metricsnya dengan memahami nilai yang dihitung dan pastikan menggunakan nilai yang sama untuk satu kasus jika kita membuat beberapa model yang berbeda. Berikut ini adalah rangkuman dari 3 metrics di atas:\n",
    "\n",
    "- RMSE (Root Mean Squared Error), metric yang paling umum digunakan untuk menghitung error numerik. Perhitungannya yaitu merata-ratakan hasil penjumlahan kuadrat dari error.\n",
    "- SSE (Sum Squared Error), merupakan metric yang paling cepat komputasinya dan baik digunakan untuk benchmarking error model, tetapi hasilnya tidak dapat diinterpretasikan (karena perhitungannya merupakan hasil penjumlahan dari kuadrat error)\n",
    "- MAPE (Mean Absolute Percentage Error), adalah metric yang paling sering digunakan pada model time series. Metric ini menghasilkan error dalam bentuk persentase berdasarkan range nilai aslinya. Kekurangannya yaitu tidak dapat digunakan ketika ada nilai 0 pada data kita (karena perhitungannya menggunakan nilai aktual pada faktor pembilang).\n",
    "\n",
    "Pada course ini kita akan menggunakan MAPE karena paling mudah diinterpretasikan serta tidak ada nilai 0 pada data kita (dengan catatan tidak melakukan padding di atas, jika padding dilakukan dan nilai NaN diisi dengan 0 maka metric ini tidak dapat digunakan).\n",
    "\n",
    "Untuk membantu perhitungan MAPE, kita akan menggunakan modul `metrics` dari library `sklearn`. Kita akan menghitung nilai error berdasarkan nilai `y` pada data aktual dan `yhat` pada data hasil forecast."
   ]
  },
  {
   "cell_type": "code",
   "execution_count": null,
   "metadata": {
    "ExecuteTime": {
     "end_time": "2023-05-18T03:38:06.792620Z",
     "start_time": "2023-05-18T03:38:06.334812Z"
    }
   },
   "outputs": [],
   "source": [
    "from sklearn.metrics import mean_absolute_percentage_error\n",
    "\n",
    "# get fitting result\n",
    "forecast_train = forecast_final[forecast_final['ds'] < cutoff]\n",
    "\n",
    "# compare with train data\n",
    "train_mape = mean_absolute_percentage_error(y_true=train['y'],\n",
    "                                     y_pred=forecast_train['yhat'])\n",
    "train_mape"
   ]
  },
  {
   "cell_type": "code",
   "execution_count": null,
   "metadata": {
    "ExecuteTime": {
     "end_time": "2023-05-18T03:38:07.213267Z",
     "start_time": "2023-05-18T03:38:07.187179Z"
    }
   },
   "outputs": [],
   "source": [
    "# get forecast result\n",
    "forecast_test = forecast_final[___]\n",
    "\n",
    "# compare with test data\n",
    "test_mape = mean_absolute_percentage_error(___,\n",
    "                                     ___)\n",
    "test_mape"
   ]
  },
  {
   "cell_type": "markdown",
   "metadata": {},
   "source": [
    "### Expanding Window Cross Validation\n",
    "\n",
    "Selain itu, kita bisa melakukan pengembangan lagi dengan melakukan lebih dari satu kali train-test split seperti gambar di bawah:\n",
    "\n",
    "<center>\n",
    "<img src=\"assets/forward-chaining-cv.png\" width=\"600\">\n",
    "</center>\n",
    "\n",
    "Prosedur ini disebut dengan **expanding window** dan dapat otomatis dilakukan dengan mengatur parameter pada method `cross_validation()`. Berikut ini adalah tiga parameter yang harus ditentukan:\n",
    "\n",
    "- `initial`: Panjang waktu data training\n",
    "- `horizon`: Panjang waktu forecast\n",
    "- `period`: Jarak tanggal tiap cutoff"
   ]
  },
  {
   "cell_type": "code",
   "execution_count": null,
   "metadata": {
    "ExecuteTime": {
     "end_time": "2023-05-18T05:03:20.275708Z",
     "start_time": "2023-05-18T05:03:17.928800Z"
    }
   },
   "outputs": [],
   "source": [
    "from prophet.diagnostics import cross_validation\n",
    "df_cv = cross_validation(model_holiday, \n",
    "                         initial='731 days', \n",
    "                         horizon='30 days', \n",
    "                         period='90 days')\n",
    "df_cv"
   ]
  },
  {
   "cell_type": "markdown",
   "metadata": {},
   "source": [
    "Proses cross-validation di atas akan dilakukan sebanyak 4 kali (4 folds), dimana setiap fold akan meramal 30 hari (`horizon`) sejak tanggal cutoff. Berikut adalah ilustrasi dari setiap fold:"
   ]
  },
  {
   "cell_type": "code",
   "execution_count": null,
   "metadata": {
    "ExecuteTime": {
     "end_time": "2023-05-18T05:03:38.684382Z",
     "start_time": "2023-05-18T05:03:36.288075Z"
    },
    "scrolled": false
   },
   "outputs": [],
   "source": [
    "# for illustration purposes only\n",
    "from helper import viz\n",
    "\n",
    "df_copy = daily_total_qty[['ds', 'y']].copy()\n",
    "df_cutoff_horizon = df_cv.groupby('cutoff')[['ds']].max()\n",
    "\n",
    "viz.forward_chaining_viz(df_copy, df_cutoff_horizon)"
   ]
  },
  {
   "cell_type": "markdown",
   "metadata": {},
   "source": [
    "Metric error setiap fold pada cross-validation dapat dihitung manual, contohnya MAPE di bawah ini:"
   ]
  },
  {
   "cell_type": "code",
   "execution_count": null,
   "metadata": {
    "ExecuteTime": {
     "end_time": "2023-05-18T05:06:39.350895Z",
     "start_time": "2023-05-18T05:06:39.321926Z"
    }
   },
   "outputs": [],
   "source": [
    "cv_mape = df_cv.groupby('cutoff').apply(\n",
    "    lambda x: mean_absolute_percentage_error(y_true=x['y'],\n",
    "                                     y_pred=x['yhat']))\n",
    "cv_mape"
   ]
  },
  {
   "cell_type": "markdown",
   "metadata": {},
   "source": [
    "Karena bisa dikatakan kita memiliki 4 model, kita dapat menghitung kembali **MAPE** model secara keseluruhan dengan mengambil rata-ratanya."
   ]
  },
  {
   "cell_type": "code",
   "execution_count": null,
   "metadata": {
    "ExecuteTime": {
     "end_time": "2023-05-18T05:06:46.558720Z",
     "start_time": "2023-05-18T05:06:46.546557Z"
    }
   },
   "outputs": [],
   "source": [
    "cv_mape.mean()"
   ]
  },
  {
   "cell_type": "markdown",
   "metadata": {},
   "source": [
    "## Hyperparameter Tuning\n",
    "\n",
    "Hyperparameter tuning adalah proses pencarian kombinasi hyperparameter yang menghasilkan error terkecil. Pada kasus time series, hyperparameter yang diubah dapat berupa jumlah changepoint, fleksibilitas regularization, periode seasonal, dsb. \n",
    "\n",
    "Terdapat beerapa cara untuk melakukan tuning hyperparameter, salah satunya adalah **Grid Search Algorithm**. Algoritma ini akan melakukan pencarian untuk seluruh kombinasi dari opsi parameter yang kita sediakan. Karena sifatnya yang brute-force ini maka prosesnya dapat memakan waktu yang lama dan berat komputasinya, tetapi proses ini akan mendapatkan hyperparameter yang optimal dari nilai yang tersedia.\n",
    "\n",
    "Pada bagian ini kita akan menggunakan Algoritma Grid Search untuk mencari hyperparameter terbaik pada model kita. Proses pencariannya akan dibantu oleh iterasi for-loop dengan sebelumnya kita tentukan dulu nilai-nilai hyperparameter yang ingin dicoba. Pada kasus time series kali ini kita akan mengevaluasi performa model menggunakan MAPE. Pada akhir prosesnya nanti kita akan mendapatkan kombinasi hyperparameter optimal yang menghasilkan MAPE terkecil. \n",
    "\n",
    "\n",
    "Silakan buka [link ini](https://facebook.github.io/prophet/docs/diagnostics.html#hyperparameter-tuning) untuk melihat rekomendasi hyperparameter yang dapat di-tuning pada model Prophet."
   ]
  },
  {
   "cell_type": "markdown",
   "metadata": {},
   "source": [
    "Mari kita coba pada model kita, langkah-langkahnya yaitu:\n",
    "\n",
    "1. Siapkan parameter untuk dituning"
   ]
  },
  {
   "cell_type": "code",
   "execution_count": null,
   "metadata": {
    "ExecuteTime": {
     "end_time": "2023-05-20T02:21:40.250276Z",
     "start_time": "2023-05-20T02:21:40.198938Z"
    }
   },
   "outputs": [],
   "source": [
    "from tqdm import tqdm\n",
    "import itertools"
   ]
  },
  {
   "cell_type": "code",
   "execution_count": null,
   "metadata": {
    "ExecuteTime": {
     "end_time": "2023-05-20T02:21:41.248151Z",
     "start_time": "2023-05-20T02:21:41.232245Z"
    }
   },
   "outputs": [],
   "source": [
    "# input grid search parameters\n",
    "grid_params = {\n",
    "    'changepoint_prior_scale': [0.001, 0.01, 0.05, 0.1],\n",
    "    'changepoint_range': [0.8, 0.95]\n",
    "}\n",
    "\n",
    "# make all combination of parameters \n",
    "all_params = [dict(zip(grid_params.keys(), v)) for v in itertools.product(*grid_params.values())]\n",
    "all_params"
   ]
  },
  {
   "cell_type": "markdown",
   "metadata": {},
   "source": [
    "Kombinasi yang ingin kita tuning terdapat pada variabel `grid_params` yang menampung nilai-nilai untuk parameter changepoint_prior_scale dan changepoint_range. Library itertools digunakan untuk menyiapkan seluruh kombinasi yang mungkin dibuat dari opsi nilai yang kita sediakan dan hasilnya disimpan ke dalam variabel `all_params`.\n",
    "Setelah parameter tersedia, kita akan melakukan fitting model untuk setiap kombinasi yang tersedia. "
   ]
  },
  {
   "cell_type": "code",
   "execution_count": null,
   "metadata": {},
   "outputs": [],
   "source": [
    "# Store the MAPE for each params here\n",
    "mape = []  \n",
    "\n",
    "# Use cross validation to evaluate all parameters\n",
    "for params in tqdm(all_params):\n",
    "    # fitting model\n",
    "    # (TO DO: change the data and add other components: seasonality, holiday, regressor)\n",
    "    model = Prophet(**params,\n",
    "                  holidays=___)\n",
    "    model.fit(___)\n",
    "\n",
    "    # Expanding window cross validation (TO DO: use different values)\n",
    "    cv = cross_validation(___)\n",
    "\n",
    "    # Evaluation metrics: MAPE\n",
    "    mape_s = cv.groupby('cutoff').apply(\n",
    "      lambda x: mean_absolute_percentage_error(y_true=x['y'],\n",
    "                                     y_pred=x['yhat']))\n",
    "\n",
    "    mean_mape = mape_s.mean()\n",
    "    mape.append(mean_mape)"
   ]
  },
  {
   "cell_type": "markdown",
   "metadata": {},
   "source": [
    "Rangkaian kode di atas akan menjalankan model untuk setiap kombinasi hyperparameter pada model time series kita. Model tersebut dilatih menggunakan dataframe `daily_total_qty` dan dimasukkan ke dalam proses cross-validation dengan periode training selama **730 hari** dan horizon **30 hari**. Terakhir, model ini dievaluasi menggunakan metric MAPE yang disimpan ke dalam variabel `mape` untuk setiap kombinasi parameter yang digunakan.\n",
    "\n",
    "❗ Library `tqdm` digunakan untuk melihat progress iterasi.\n",
    "\n",
    "Dari variabel `all_params` dan `mape` kita dapat menyusun dataframe yang menyimpan kedua informasinya lalu mengurutkannya dari yang errornya paling kecil."
   ]
  },
  {
   "cell_type": "code",
   "execution_count": null,
   "metadata": {},
   "outputs": [],
   "source": []
  },
  {
   "cell_type": "markdown",
   "metadata": {},
   "source": [
    "Dengan informasi parameter terbaik ini, kita lakukan kembali fitting model yang akan digunakan untuk forecasting."
   ]
  },
  {
   "cell_type": "code",
   "execution_count": null,
   "metadata": {},
   "outputs": [],
   "source": []
  },
  {
   "cell_type": "markdown",
   "metadata": {},
   "source": [
    "## Dive Deeper\n",
    "\n",
    "Pada latihan sebelumnya, kita membuat model time series menggunakan data `shop_id = 31`, coba ramalkan `total_revenue` menggunakan data `shop_id = 25`. Coba gunakan parameter-parameter untuk mengatur changepoint serta komponen seasonal maupun holiday. \n",
    "\n",
    "**Challenge**:\n",
    "Coba bandingkan model tanpa regressor `total_qty` dengan tidak menggunakan regressor (jika menggunakan regressor berarti Anda harus membuat hasil prediksi regressornya terlebih dahulu)."
   ]
  },
  {
   "cell_type": "code",
   "execution_count": null,
   "metadata": {},
   "outputs": [],
   "source": []
  },
  {
   "cell_type": "markdown",
   "metadata": {},
   "source": [
    "## Optional Material\n",
    "\n",
    "### [OPTIONAL - Matematika di Balik Trend]\n",
    "\n",
    "Model linear pada trend akan membuat sebuah garis lurus melintasi sumbu x menggunakan metode ordinary least square (yaitu garisnya akan dibuat sedemikian rupa agar terdapat beda paling sedikit antara garis dengan nilai sesungguhnya dan menghasilkan perata-rataan yang berubah terhadap waktu). Konsepnya adalah membuat sebuah garis regresi linear dengan perumusan:\n",
    "\n",
    "$$y=mx+C$$\n",
    "\n",
    "Pada kasus kita, ketika kita ingin membuat model dari komponen trend maka `y` akan menjadi `Trend`, `m` akan menjadi perbedaan setiap perubahan waktu, dan C untuk intercept. Secara perumusan akan menjadi:\n",
    "\n",
    "$$T(date)=m(date)+C$$\n",
    "\n",
    "Untuk membuat ilustrasi slope pada trend, kita dapat membuat sebuah model dengan fungsi `ols()` dari library `statsmodels`:"
   ]
  },
  {
   "cell_type": "code",
   "execution_count": null,
   "metadata": {
    "ExecuteTime": {
     "end_time": "2023-05-18T02:31:56.497345Z",
     "start_time": "2023-05-18T02:31:56.487829Z"
    }
   },
   "outputs": [],
   "source": [
    "daily_sales_31_copy['date_ordinal']"
   ]
  },
  {
   "cell_type": "code",
   "execution_count": null,
   "metadata": {
    "ExecuteTime": {
     "end_time": "2023-05-18T02:31:57.806954Z",
     "start_time": "2023-05-18T02:31:56.500365Z"
    }
   },
   "outputs": [],
   "source": [
    "# import the library\n",
    "import statsmodels.api as sm\n",
    "\n",
    "# define predictor and target variable\n",
    "X = daily_sales_31_copy['date_ordinal']\n",
    "y = daily_sales_31_copy['total_qty']\n",
    "\n",
    "# build ols model\n",
    "X_train_sm = sm.add_constant(X)\n",
    "lr = sm.OLS(y, X_train_sm).fit()\n",
    "\n",
    "# printing the parameters\n",
    "lr.params"
   ]
  },
  {
   "cell_type": "markdown",
   "metadata": {},
   "source": [
    "Persamaan yang dibentuk berdasarkan hasil OLS di atas menjadi:\n",
    "\n",
    "$$demand.in.qty=(−0.17)date+124413.733$$\n",
    "\n",
    "Nilai (-0.17) adalah slope atau m pada persamaan yang dapat dibaca menjadi setiap kenaikan 1 tanggal (pada kasus ini berarti bertambah 1 hari), terjadi penurunan demand sebesar 0.17. Hal ini menunjukkan hubungan negatif antara waktu dengan demand."
   ]
  },
  {
   "cell_type": "markdown",
   "metadata": {},
   "source": [
    "### [OPTIONAL] Built-in Country Holidays\n",
    "\n",
    "Kita dapat menggunakan informasi built-in tentang hari libur spesifik suatu negara menggunakan method `.add_country_holidays()` sebelum melakukan fitting model. Parameter yang harus ditambahkan yaitu `country_name` dan untuk Indonesia masukkan nilai `\"ID\"`"
   ]
  },
  {
   "cell_type": "code",
   "execution_count": null,
   "metadata": {
    "ExecuteTime": {
     "end_time": "2023-05-18T02:31:59.546915Z",
     "start_time": "2023-05-18T02:31:59.546915Z"
    }
   },
   "outputs": [],
   "source": [
    "model_holiday_indo = Prophet()\n",
    "model_holiday_indo.add_country_holidays(country_name='ID')\n",
    "model_holiday_indo.fit(daily_total_qty)\n",
    "\n",
    "model_holiday_indo.train_holiday_names"
   ]
  },
  {
   "cell_type": "markdown",
   "metadata": {},
   "source": [
    "💡 Sebagai tambahan, kita juga dapat secara manual menambahkan informasi hari libur di atas menggunakan modul `hdays` dari `prophet`. Cara ini biasanya digunakan ketika kita hanya ingin mengambil beberapa informasi hari libur, tidak semuanya.\n",
    "\n",
    "Sebagai contoh kita ingin membuat list hari libur di Indonesia pada tahun 2020 dan 2021 secara manual.\n",
    "\n",
    "- Fungsi `hdays.Indonesia()` digunakan untuk menginisiasi list hari libur di Indonesia\n",
    "- Method `_populate()` digunakan untuk menambahkan list hari libur di tahun yang kita inginkan, hasilnya dalam bentuk dictionary dengan tanggal sebagai key dan nama hari libur sebagai value.\n",
    "\n",
    "Langkah yang perlu dilakukan adalah membuatnya ke dalam bentuk dataframe. Kita akan menggunakan fungsi `pd.DataFrame()` dan merapikan bentuk dataframe kita agar sesuai dengan input yang diharapkan Prophet."
   ]
  },
  {
   "cell_type": "code",
   "execution_count": null,
   "metadata": {
    "ExecuteTime": {
     "end_time": "2023-05-18T02:31:59.548887Z",
     "start_time": "2023-05-18T02:31:59.548887Z"
    }
   },
   "outputs": [],
   "source": [
    "# for illustration purposes only\n",
    "# Reference: https://github.com/facebook/prophet/blob/master/python/prophet/hdays.py\n",
    "from prophet import hdays\n",
    "holidays_indo = hdays.Indonesia()\n",
    "holidays_indo._populate(2020)\n",
    "holidays_indo._populate(2021)\n",
    "pd.DataFrame(holidays_indo, index = ['holiday']).T.rename_axis('ds').reset_index()"
   ]
  }
 ],
 "metadata": {
  "kernelspec": {
   "display_name": "vulcan_da",
   "language": "python",
   "name": "vulcan_da"
  },
  "language_info": {
   "codemirror_mode": {
    "name": "ipython",
    "version": 3
   },
   "file_extension": ".py",
   "mimetype": "text/x-python",
   "name": "python",
   "nbconvert_exporter": "python",
   "pygments_lexer": "ipython3",
   "version": "3.10.10"
  },
  "toc": {
   "base_numbering": 1,
   "nav_menu": {},
   "number_sections": true,
   "sideBar": true,
   "skip_h1_title": false,
   "title_cell": "Table of Contents",
   "title_sidebar": "Contents",
   "toc_cell": false,
   "toc_position": {
    "height": "calc(100% - 180px)",
    "left": "10px",
    "top": "150px",
    "width": "285.333px"
   },
   "toc_section_display": true,
   "toc_window_display": false
  },
  "varInspector": {
   "cols": {
    "lenName": 16,
    "lenType": 16,
    "lenVar": 40
   },
   "kernels_config": {
    "python": {
     "delete_cmd_postfix": "",
     "delete_cmd_prefix": "del ",
     "library": "var_list.py",
     "varRefreshCmd": "print(var_dic_list())"
    },
    "r": {
     "delete_cmd_postfix": ") ",
     "delete_cmd_prefix": "rm(",
     "library": "var_list.r",
     "varRefreshCmd": "cat(var_dic_list()) "
    }
   },
   "types_to_exclude": [
    "module",
    "function",
    "builtin_function_or_method",
    "instance",
    "_Feature"
   ],
   "window_display": false
  }
 },
 "nbformat": 4,
 "nbformat_minor": 4
}
